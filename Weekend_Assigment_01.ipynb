{
 "cells": [
  {
   "cell_type": "code",
   "execution_count": 29,
   "metadata": {},
   "outputs": [],
   "source": [
    "class Restaurant:\n",
    "    def __init__(self, restaurant_name, cuisine_type):\n",
    "        self.restuarant_name = restaurant_name;\n",
    "        self.cuisine_type = cuisine_type;\n",
    "        \n",
    "    def describe_restaurant(self):\n",
    "        print(f\" The restaurant is {self.restuarant_name} and the cuisine_type is {self.cuisine_type} \\n\")\n",
    "        \n",
    "    \n",
    "    def open_restuarant(self):\n",
    "         print(f\"{self.restuarant_name} is now open\")\n",
    "\n",
    "    "
   ]
  },
  {
   "cell_type": "code",
   "execution_count": 30,
   "metadata": {},
   "outputs": [],
   "source": [
    "a1 = Restaurant(\"Mcd\",\"fastfood\")"
   ]
  },
  {
   "cell_type": "code",
   "execution_count": 31,
   "metadata": {},
   "outputs": [
    {
     "name": "stdout",
     "output_type": "stream",
     "text": [
      " The restaurant is Mcd and the cuisine_type is fastfood \n",
      "\n"
     ]
    }
   ],
   "source": [
    "a1.describe_restaurant()"
   ]
  },
  {
   "cell_type": "code",
   "execution_count": 32,
   "metadata": {},
   "outputs": [
    {
     "name": "stdout",
     "output_type": "stream",
     "text": [
      "Mcd is now open\n"
     ]
    }
   ],
   "source": [
    "a1.open_restuarant()"
   ]
  },
  {
   "cell_type": "code",
   "execution_count": 33,
   "metadata": {},
   "outputs": [],
   "source": [
    "a2 = Restaurant(\"pizzahut\",\"italian\")"
   ]
  },
  {
   "cell_type": "code",
   "execution_count": 34,
   "metadata": {},
   "outputs": [
    {
     "name": "stdout",
     "output_type": "stream",
     "text": [
      " The restaurant is pizzahut and the cuisine_type is italian \n",
      "\n"
     ]
    }
   ],
   "source": [
    "a2.describe_restaurant()"
   ]
  },
  {
   "cell_type": "code",
   "execution_count": null,
   "metadata": {},
   "outputs": [],
   "source": []
  }
 ],
 "metadata": {
  "kernelspec": {
   "display_name": "Python 3",
   "language": "python",
   "name": "python3"
  },
  "language_info": {
   "codemirror_mode": {
    "name": "ipython",
    "version": 3
   },
   "file_extension": ".py",
   "mimetype": "text/x-python",
   "name": "python",
   "nbconvert_exporter": "python",
   "pygments_lexer": "ipython3",
   "version": "3.7.6"
  }
 },
 "nbformat": 4,
 "nbformat_minor": 4
}
